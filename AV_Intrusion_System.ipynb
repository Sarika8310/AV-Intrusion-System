{
  "nbformat": 4,
  "nbformat_minor": 0,
  "metadata": {
    "colab": {
      "provenance": [],
      "mount_file_id": "1xkLuQQm3STDmIc6k6p2C-pfJe-8fJ7Fb",
      "authorship_tag": "ABX9TyNPAb3WSU6choPXvZi8eTFA",
      "include_colab_link": true
    },
    "kernelspec": {
      "name": "python3",
      "display_name": "Python 3"
    },
    "language_info": {
      "name": "python"
    }
  },
  "cells": [
    {
      "cell_type": "markdown",
      "metadata": {
        "id": "view-in-github",
        "colab_type": "text"
      },
      "source": [
        "<a href=\"https://colab.research.google.com/github/Sarika8310/AV-Intrusion-System/blob/main/AV_Intrusion_System.ipynb\" target=\"_parent\"><img src=\"https://colab.research.google.com/assets/colab-badge.svg\" alt=\"Open In Colab\"/></a>"
      ]
    },
    {
      "cell_type": "code",
      "source": [
        "# 🚗 PHASE 1 – Final Version (Cleaned for DoS + RPM datasets)\n",
        "\n",
        "import pandas as pd\n",
        "from sklearn.model_selection import train_test_split\n",
        "from sklearn.preprocessing import StandardScaler\n",
        "\n",
        "# ✅ Step 1: Load CSVs\n",
        "dos_path = \"/content/DoS_dataset.csv\"\n",
        "rpm_path = \"/content/RPM_dataset.csv\"\n",
        "\n",
        "df_dos = pd.read_csv(dos_path, header=None)\n",
        "df_rpm = pd.read_csv(rpm_path, header=None)\n",
        "\n",
        "# ✅ Step 2: Add correct column headers (12 total)\n",
        "columns = ['Time', 'ID', 'Len', 'D1', 'D2', 'D3', 'D4', 'D5', 'D6', 'D7', 'D8', 'Class']\n",
        "df_dos.columns = columns\n",
        "df_rpm.columns = columns\n",
        "\n",
        "# ✅ Step 3: Label datasets manually\n",
        "df_dos['Class'] = 1  # Attack\n",
        "df_rpm['Class'] = 0  # Normal\n",
        "\n",
        "# ✅ Step 4: Merge datasets\n",
        "df = pd.concat([df_rpm, df_dos], ignore_index=True)\n",
        "\n",
        "# ✅ Step 5: Drop 'Time' column (not useful)\n",
        "df = df.drop(['Time'], axis=1)\n",
        "\n",
        "# ✅ Step 6: Convert hex strings to integers wherever possible\n",
        "for col in df.columns:\n",
        "    if col != 'Class':\n",
        "        df[col] = df[col].apply(\n",
        "            lambda x: int(str(x), 16) if isinstance(x, str) and all(c in '0123456789abcdefABCDEF' for c in str(x)) else x\n",
        "        )\n",
        "\n",
        "# ✅ Step 7: Clean up — convert all to numeric, drop bad rows\n",
        "X = df.drop('Class', axis=1)\n",
        "X = X.apply(pd.to_numeric, errors='coerce')  # invalid strings -> NaN\n",
        "X = X.dropna()  # drop rows with NaN\n",
        "y = df['Class'].loc[X.index]  # match labels\n",
        "\n",
        "# ✅ Step 8: Normalize features\n",
        "scaler = StandardScaler()\n",
        "X_scaled = scaler.fit_transform(X)\n",
        "\n",
        "# ✅ Step 9: Train-test split\n",
        "X_train, X_test, y_train, y_test = train_test_split(\n",
        "    X_scaled, y.reset_index(drop=True), test_size=0.2, random_state=42\n",
        ")\n",
        "\n",
        "print(\"✅ Phase 1 complete — data is cleaned, encoded, scaled, and split.\")\n",
        "print(\"🟢 X_train shape:\", X_train.shape)\n",
        "print(\"🟢 y_train value counts:\\n\", y_train.value_counts())\n"
      ],
      "metadata": {
        "colab": {
          "base_uri": "https://localhost:8080/"
        },
        "id": "tDFlc_qVGPqJ",
        "outputId": "bfd6c522-8cd6-4291-8028-6d79ad917d36"
      },
      "execution_count": null,
      "outputs": [
        {
          "output_type": "stream",
          "name": "stdout",
          "text": [
            "✅ Phase 1 complete — data is cleaned, encoded, scaled, and split.\n",
            "🟢 X_train shape: (1459944, 10)\n",
            "🟢 y_train value counts:\n",
            " Class\n",
            "0    1219207\n",
            "1     240737\n",
            "Name: count, dtype: int64\n"
          ]
        }
      ]
    },
    {
      "cell_type": "code",
      "source": [
        "# 🚗 PHASE 2 – Random Forest Model\n",
        "\n",
        "from sklearn.ensemble import RandomForestClassifier\n",
        "from sklearn.metrics import accuracy_score, confusion_matrix, classification_report\n",
        "import joblib  # for saving the model\n",
        "\n",
        "# ✅ Step 1: Train model\n",
        "rf_model = RandomForestClassifier(n_estimators=100, random_state=42, n_jobs=-1)\n",
        "rf_model.fit(X_train, y_train)\n",
        "\n",
        "# ✅ Step 2: Predictions\n",
        "y_pred = rf_model.predict(X_test)\n",
        "\n",
        "# ✅ Step 3: Evaluation\n",
        "acc = accuracy_score(y_test, y_pred)\n",
        "print(\"✅ Accuracy:\", round(acc * 100, 2), \"%\")\n",
        "\n",
        "print(\"\\n📊 Confusion Matrix:\")\n",
        "print(confusion_matrix(y_test, y_pred))\n",
        "\n",
        "print(\"\\n📄 Classification Report:\")\n",
        "print(classification_report(y_test, y_pred))\n",
        "\n",
        "# ✅ Step 4: Save model (optional)\n",
        "joblib.dump(rf_model, \"random_forest_car_model.pkl\")\n",
        "print(\"✅ Model saved as random_forest_car_model.pkl\")\n"
      ],
      "metadata": {
        "colab": {
          "base_uri": "https://localhost:8080/"
        },
        "id": "TxqahSf0L05y",
        "outputId": "d0aee37a-1676-4d11-d530-04f198ef144f"
      },
      "execution_count": null,
      "outputs": [
        {
          "output_type": "stream",
          "name": "stdout",
          "text": [
            "✅ Accuracy: 93.83 %\n",
            "\n",
            "📊 Confusion Matrix:\n",
            "[[301904   2847]\n",
            " [ 19672  40563]]\n",
            "\n",
            "📄 Classification Report:\n",
            "              precision    recall  f1-score   support\n",
            "\n",
            "           0       0.94      0.99      0.96    304751\n",
            "           1       0.93      0.67      0.78     60235\n",
            "\n",
            "    accuracy                           0.94    364986\n",
            "   macro avg       0.94      0.83      0.87    364986\n",
            "weighted avg       0.94      0.94      0.93    364986\n",
            "\n",
            "✅ Model saved as random_forest_car_model.pkl\n"
          ]
        }
      ]
    },
    {
      "cell_type": "code",
      "source": [
        "import joblib\n",
        "\n",
        "# Save model and scaler\n",
        "joblib.dump(model, \"random_forest_car_model.pkl\")\n",
        "joblib.dump(scaler, \"scaler.pkl\")\n"
      ],
      "metadata": {
        "colab": {
          "base_uri": "https://localhost:8080/"
        },
        "id": "egmS6cIv9snx",
        "outputId": "72412c82-aac2-4440-ec80-fcc79965cece"
      },
      "execution_count": null,
      "outputs": [
        {
          "output_type": "execute_result",
          "data": {
            "text/plain": [
              "['scaler.pkl']"
            ]
          },
          "metadata": {},
          "execution_count": 12
        }
      ]
    },
    {
      "cell_type": "code",
      "source": [
        "from google.colab import files\n",
        "files.download(\"random_forest_car_model.pkl\")\n",
        "files.download(\"scaler.pkl\")\n"
      ],
      "metadata": {
        "id": "JfvkOBnH9xoC",
        "outputId": "766a5a71-5a2a-4e27-a898-f1ec81f0ad9a",
        "colab": {
          "base_uri": "https://localhost:8080/",
          "height": 34
        }
      },
      "execution_count": null,
      "outputs": [
        {
          "output_type": "display_data",
          "data": {
            "text/plain": [
              "<IPython.core.display.Javascript object>"
            ],
            "application/javascript": [
              "\n",
              "    async function download(id, filename, size) {\n",
              "      if (!google.colab.kernel.accessAllowed) {\n",
              "        return;\n",
              "      }\n",
              "      const div = document.createElement('div');\n",
              "      const label = document.createElement('label');\n",
              "      label.textContent = `Downloading \"${filename}\": `;\n",
              "      div.appendChild(label);\n",
              "      const progress = document.createElement('progress');\n",
              "      progress.max = size;\n",
              "      div.appendChild(progress);\n",
              "      document.body.appendChild(div);\n",
              "\n",
              "      const buffers = [];\n",
              "      let downloaded = 0;\n",
              "\n",
              "      const channel = await google.colab.kernel.comms.open(id);\n",
              "      // Send a message to notify the kernel that we're ready.\n",
              "      channel.send({})\n",
              "\n",
              "      for await (const message of channel.messages) {\n",
              "        // Send a message to notify the kernel that we're ready.\n",
              "        channel.send({})\n",
              "        if (message.buffers) {\n",
              "          for (const buffer of message.buffers) {\n",
              "            buffers.push(buffer);\n",
              "            downloaded += buffer.byteLength;\n",
              "            progress.value = downloaded;\n",
              "          }\n",
              "        }\n",
              "      }\n",
              "      const blob = new Blob(buffers, {type: 'application/binary'});\n",
              "      const a = document.createElement('a');\n",
              "      a.href = window.URL.createObjectURL(blob);\n",
              "      a.download = filename;\n",
              "      div.appendChild(a);\n",
              "      a.click();\n",
              "      div.remove();\n",
              "    }\n",
              "  "
            ]
          },
          "metadata": {}
        },
        {
          "output_type": "display_data",
          "data": {
            "text/plain": [
              "<IPython.core.display.Javascript object>"
            ],
            "application/javascript": [
              "download(\"download_9ae6f0b8-755d-40fd-acc3-38cb5eb6ecb9\", \"random_forest_car_model.pkl\", 281750217)"
            ]
          },
          "metadata": {}
        },
        {
          "output_type": "display_data",
          "data": {
            "text/plain": [
              "<IPython.core.display.Javascript object>"
            ],
            "application/javascript": [
              "\n",
              "    async function download(id, filename, size) {\n",
              "      if (!google.colab.kernel.accessAllowed) {\n",
              "        return;\n",
              "      }\n",
              "      const div = document.createElement('div');\n",
              "      const label = document.createElement('label');\n",
              "      label.textContent = `Downloading \"${filename}\": `;\n",
              "      div.appendChild(label);\n",
              "      const progress = document.createElement('progress');\n",
              "      progress.max = size;\n",
              "      div.appendChild(progress);\n",
              "      document.body.appendChild(div);\n",
              "\n",
              "      const buffers = [];\n",
              "      let downloaded = 0;\n",
              "\n",
              "      const channel = await google.colab.kernel.comms.open(id);\n",
              "      // Send a message to notify the kernel that we're ready.\n",
              "      channel.send({})\n",
              "\n",
              "      for await (const message of channel.messages) {\n",
              "        // Send a message to notify the kernel that we're ready.\n",
              "        channel.send({})\n",
              "        if (message.buffers) {\n",
              "          for (const buffer of message.buffers) {\n",
              "            buffers.push(buffer);\n",
              "            downloaded += buffer.byteLength;\n",
              "            progress.value = downloaded;\n",
              "          }\n",
              "        }\n",
              "      }\n",
              "      const blob = new Blob(buffers, {type: 'application/binary'});\n",
              "      const a = document.createElement('a');\n",
              "      a.href = window.URL.createObjectURL(blob);\n",
              "      a.download = filename;\n",
              "      div.appendChild(a);\n",
              "      a.click();\n",
              "      div.remove();\n",
              "    }\n",
              "  "
            ]
          },
          "metadata": {}
        },
        {
          "output_type": "display_data",
          "data": {
            "text/plain": [
              "<IPython.core.display.Javascript object>"
            ],
            "application/javascript": [
              "download(\"download_2955b869-8f55-4ec6-a6b2-45a57ce99f08\", \"scaler.pkl\", 855)"
            ]
          },
          "metadata": {}
        }
      ]
    },
    {
      "cell_type": "code",
      "source": [
        "import pandas as pd\n",
        "import time\n",
        "import joblib\n",
        "from sklearn.preprocessing import StandardScaler\n",
        "\n",
        "# Step 1: Load the saved model\n",
        "model = joblib.load(\"/content/random_forest_car_model.pkl\")\n",
        "\n",
        "# Step 2: Reuse and fit the scaler (with X_train from Phase 1)\n",
        "scaler = StandardScaler()\n",
        "scaler.fit(X_train)  # Make sure X_train is still in memory\n",
        "\n",
        "# Step 3: Sample 10 random rows from your full DataFrame (df)\n",
        "sample = df.sample(10).drop(columns=['Class'])\n",
        "\n",
        "# Step 4: Convert hex-like values to integers (in case you reloaded df)\n",
        "for col in sample.columns:\n",
        "    sample[col] = sample[col].apply(lambda x: int(str(x), 16)\n",
        "                                    if isinstance(x, str) and all(c in '0123456789abcdefABCDEF' for c in str(x))\n",
        "                                    else x)\n",
        "\n",
        "# Step 5: Scale the sample\n",
        "sample_scaled = scaler.transform(sample)\n",
        "\n",
        "# Step 6: Simulate real-time prediction\n",
        "print(\"🚗 Real-Time Intrusion Detection Simulation Started...\\n\")\n",
        "for i, row in enumerate(sample_scaled):\n",
        "    time.sleep(1)  # Simulate time delay like real CAN bus signals\n",
        "    pred = model.predict([row])[0]\n",
        "    status = \"🚨 ATTACK DETECTED!\" if pred == 1 else \"✅ Normal Signal\"\n",
        "    print(f\"[Frame {i+1}] Status: {status}\")\n"
      ],
      "metadata": {
        "colab": {
          "base_uri": "https://localhost:8080/"
        },
        "id": "I8d90Zn5wtHB",
        "outputId": "826bc3ab-1594-48b4-abbb-a84c3dcec5ee"
      },
      "execution_count": null,
      "outputs": [
        {
          "output_type": "stream",
          "name": "stderr",
          "text": [
            "/usr/local/lib/python3.11/dist-packages/sklearn/utils/validation.py:2732: UserWarning: X has feature names, but StandardScaler was fitted without feature names\n",
            "  warnings.warn(\n"
          ]
        },
        {
          "output_type": "stream",
          "name": "stdout",
          "text": [
            "🚗 Real-Time Intrusion Detection Simulation Started...\n",
            "\n",
            "[Frame 1] Status: ✅ Normal Signal\n",
            "[Frame 2] Status: ✅ Normal Signal\n",
            "[Frame 3] Status: ✅ Normal Signal\n",
            "[Frame 4] Status: ✅ Normal Signal\n",
            "[Frame 5] Status: ✅ Normal Signal\n",
            "[Frame 6] Status: 🚨 ATTACK DETECTED!\n",
            "[Frame 7] Status: ✅ Normal Signal\n",
            "[Frame 8] Status: 🚨 ATTACK DETECTED!\n",
            "[Frame 9] Status: ✅ Normal Signal\n",
            "[Frame 10] Status: 🚨 ATTACK DETECTED!\n"
          ]
        }
      ]
    },
    {
      "cell_type": "code",
      "source": [
        "import pandas as pd\n",
        "import time\n",
        "import joblib\n",
        "from datetime import datetime\n",
        "from sklearn.preprocessing import StandardScaler\n",
        "\n",
        "# Load trained model\n",
        "model = joblib.load(\"/content/random_forest_car_model.pkl\")\n",
        "\n",
        "# Reuse scaler\n",
        "scaler = StandardScaler()\n",
        "scaler.fit(X_train)\n",
        "\n",
        "# Sample 15 rows for simulation\n",
        "sample = df.sample(15).drop(columns=['Class'])\n",
        "\n",
        "# Convert hex-like to int\n",
        "for col in sample.columns:\n",
        "    sample[col] = sample[col].apply(lambda x: int(str(x), 16)\n",
        "                                    if isinstance(x, str) and all(c in '0123456789abcdefABCDEF' for c in str(x))\n",
        "                                    else x)\n",
        "\n",
        "# Scale input\n",
        "sample_scaled = scaler.transform(sample)\n",
        "\n",
        "# Prepare logging\n",
        "log = []\n",
        "\n",
        "print(\"🚗 Intrusion Detection System with Logging Started...\\n\")\n",
        "\n",
        "for i, row in enumerate(sample_scaled):\n",
        "    time.sleep(1)\n",
        "    prediction = model.predict([row])[0]\n",
        "    probability = model.predict_proba([row])[0][prediction]  # Confidence score\n",
        "\n",
        "    timestamp = datetime.now().strftime('%Y-%m-%d %H:%M:%S')\n",
        "    status = \"ATTACK\" if prediction == 1 else \"NORMAL\"\n",
        "    confidence = round(probability * 100, 2)\n",
        "\n",
        "    print(f\"[{timestamp}] Frame {i+1} ➜ {status} ({confidence}%)\")\n",
        "\n",
        "    # Log this frame\n",
        "    log.append({\n",
        "        \"Timestamp\": timestamp,\n",
        "        \"Frame\": i + 1,\n",
        "        \"Status\": status,\n",
        "        \"Confidence (%)\": confidence\n",
        "    })\n",
        "\n",
        "# Save to CSV\n",
        "log_df = pd.DataFrame(log)\n",
        "log_df.to_csv(\"intrusion_log.csv\", index=False)\n",
        "print(\"\\n✅ All detection results saved to 'intrusion_log.csv'\")\n"
      ],
      "metadata": {
        "colab": {
          "base_uri": "https://localhost:8080/"
        },
        "id": "yGd348zvyUgR",
        "outputId": "079757a6-5423-4b45-8d51-5baa8de0ac05"
      },
      "execution_count": null,
      "outputs": [
        {
          "output_type": "stream",
          "name": "stderr",
          "text": [
            "/usr/local/lib/python3.11/dist-packages/sklearn/utils/validation.py:2732: UserWarning: X has feature names, but StandardScaler was fitted without feature names\n",
            "  warnings.warn(\n"
          ]
        },
        {
          "output_type": "stream",
          "name": "stdout",
          "text": [
            "🚗 Intrusion Detection System with Logging Started...\n",
            "\n",
            "[2025-06-24 07:14:21] Frame 1 ➜ ATTACK (60.59%)\n",
            "[2025-06-24 07:14:22] Frame 2 ➜ NORMAL (55.86%)\n",
            "[2025-06-24 07:14:23] Frame 3 ➜ NORMAL (59.86%)\n",
            "[2025-06-24 07:14:24] Frame 4 ➜ NORMAL (57.01%)\n",
            "[2025-06-24 07:14:25] Frame 5 ➜ NORMAL (57.01%)\n",
            "[2025-06-24 07:14:26] Frame 6 ➜ ATTACK (60.59%)\n",
            "[2025-06-24 07:14:27] Frame 7 ➜ NORMAL (68.15%)\n",
            "[2025-06-24 07:14:28] Frame 8 ➜ NORMAL (64.37%)\n",
            "[2025-06-24 07:14:29] Frame 9 ➜ NORMAL (75.71%)\n",
            "[2025-06-24 07:14:31] Frame 10 ➜ NORMAL (57.01%)\n",
            "[2025-06-24 07:14:32] Frame 11 ➜ NORMAL (79.13%)\n",
            "[2025-06-24 07:14:33] Frame 12 ➜ ATTACK (54.99%)\n",
            "[2025-06-24 07:14:34] Frame 13 ➜ ATTACK (51.55%)\n",
            "[2025-06-24 07:14:35] Frame 14 ➜ ATTACK (50.25%)\n",
            "[2025-06-24 07:14:36] Frame 15 ➜ ATTACK (60.59%)\n",
            "\n",
            "✅ All detection results saved to 'intrusion_log.csv'\n"
          ]
        }
      ]
    },
    {
      "cell_type": "code",
      "source": [
        "pip install streamlit"
      ],
      "metadata": {
        "colab": {
          "base_uri": "https://localhost:8080/"
        },
        "id": "xHcgR-Xkymvp",
        "outputId": "81d10355-58bc-4561-899c-27e45effb377"
      },
      "execution_count": null,
      "outputs": [
        {
          "output_type": "stream",
          "name": "stdout",
          "text": [
            "Collecting streamlit\n",
            "  Downloading streamlit-1.46.0-py3-none-any.whl.metadata (9.0 kB)\n",
            "Requirement already satisfied: altair<6,>=4.0 in /usr/local/lib/python3.11/dist-packages (from streamlit) (5.5.0)\n",
            "Requirement already satisfied: blinker<2,>=1.5.0 in /usr/local/lib/python3.11/dist-packages (from streamlit) (1.9.0)\n",
            "Requirement already satisfied: cachetools<7,>=4.0 in /usr/local/lib/python3.11/dist-packages (from streamlit) (5.5.2)\n",
            "Requirement already satisfied: click<9,>=7.0 in /usr/local/lib/python3.11/dist-packages (from streamlit) (8.2.1)\n",
            "Requirement already satisfied: numpy<3,>=1.23 in /usr/local/lib/python3.11/dist-packages (from streamlit) (2.0.2)\n",
            "Requirement already satisfied: packaging<26,>=20 in /usr/local/lib/python3.11/dist-packages (from streamlit) (24.2)\n",
            "Requirement already satisfied: pandas<3,>=1.4.0 in /usr/local/lib/python3.11/dist-packages (from streamlit) (2.2.2)\n",
            "Requirement already satisfied: pillow<12,>=7.1.0 in /usr/local/lib/python3.11/dist-packages (from streamlit) (11.2.1)\n",
            "Requirement already satisfied: protobuf<7,>=3.20 in /usr/local/lib/python3.11/dist-packages (from streamlit) (5.29.5)\n",
            "Requirement already satisfied: pyarrow>=7.0 in /usr/local/lib/python3.11/dist-packages (from streamlit) (18.1.0)\n",
            "Requirement already satisfied: requests<3,>=2.27 in /usr/local/lib/python3.11/dist-packages (from streamlit) (2.32.3)\n",
            "Requirement already satisfied: tenacity<10,>=8.1.0 in /usr/local/lib/python3.11/dist-packages (from streamlit) (9.1.2)\n",
            "Requirement already satisfied: toml<2,>=0.10.1 in /usr/local/lib/python3.11/dist-packages (from streamlit) (0.10.2)\n",
            "Requirement already satisfied: typing-extensions<5,>=4.4.0 in /usr/local/lib/python3.11/dist-packages (from streamlit) (4.14.0)\n",
            "Collecting watchdog<7,>=2.1.5 (from streamlit)\n",
            "  Downloading watchdog-6.0.0-py3-none-manylinux2014_x86_64.whl.metadata (44 kB)\n",
            "\u001b[2K     \u001b[90m━━━━━━━━━━━━━━━━━━━━━━━━━━━━━━━━━━━━━━━━\u001b[0m \u001b[32m44.3/44.3 kB\u001b[0m \u001b[31m1.6 MB/s\u001b[0m eta \u001b[36m0:00:00\u001b[0m\n",
            "\u001b[?25hRequirement already satisfied: gitpython!=3.1.19,<4,>=3.0.7 in /usr/local/lib/python3.11/dist-packages (from streamlit) (3.1.44)\n",
            "Collecting pydeck<1,>=0.8.0b4 (from streamlit)\n",
            "  Downloading pydeck-0.9.1-py2.py3-none-any.whl.metadata (4.1 kB)\n",
            "Requirement already satisfied: tornado!=6.5.0,<7,>=6.0.3 in /usr/local/lib/python3.11/dist-packages (from streamlit) (6.4.2)\n",
            "Requirement already satisfied: jinja2 in /usr/local/lib/python3.11/dist-packages (from altair<6,>=4.0->streamlit) (3.1.6)\n",
            "Requirement already satisfied: jsonschema>=3.0 in /usr/local/lib/python3.11/dist-packages (from altair<6,>=4.0->streamlit) (4.24.0)\n",
            "Requirement already satisfied: narwhals>=1.14.2 in /usr/local/lib/python3.11/dist-packages (from altair<6,>=4.0->streamlit) (1.43.0)\n",
            "Requirement already satisfied: gitdb<5,>=4.0.1 in /usr/local/lib/python3.11/dist-packages (from gitpython!=3.1.19,<4,>=3.0.7->streamlit) (4.0.12)\n",
            "Requirement already satisfied: python-dateutil>=2.8.2 in /usr/local/lib/python3.11/dist-packages (from pandas<3,>=1.4.0->streamlit) (2.9.0.post0)\n",
            "Requirement already satisfied: pytz>=2020.1 in /usr/local/lib/python3.11/dist-packages (from pandas<3,>=1.4.0->streamlit) (2025.2)\n",
            "Requirement already satisfied: tzdata>=2022.7 in /usr/local/lib/python3.11/dist-packages (from pandas<3,>=1.4.0->streamlit) (2025.2)\n",
            "Requirement already satisfied: charset-normalizer<4,>=2 in /usr/local/lib/python3.11/dist-packages (from requests<3,>=2.27->streamlit) (3.4.2)\n",
            "Requirement already satisfied: idna<4,>=2.5 in /usr/local/lib/python3.11/dist-packages (from requests<3,>=2.27->streamlit) (3.10)\n",
            "Requirement already satisfied: urllib3<3,>=1.21.1 in /usr/local/lib/python3.11/dist-packages (from requests<3,>=2.27->streamlit) (2.4.0)\n",
            "Requirement already satisfied: certifi>=2017.4.17 in /usr/local/lib/python3.11/dist-packages (from requests<3,>=2.27->streamlit) (2025.6.15)\n",
            "Requirement already satisfied: smmap<6,>=3.0.1 in /usr/local/lib/python3.11/dist-packages (from gitdb<5,>=4.0.1->gitpython!=3.1.19,<4,>=3.0.7->streamlit) (5.0.2)\n",
            "Requirement already satisfied: MarkupSafe>=2.0 in /usr/local/lib/python3.11/dist-packages (from jinja2->altair<6,>=4.0->streamlit) (3.0.2)\n",
            "Requirement already satisfied: attrs>=22.2.0 in /usr/local/lib/python3.11/dist-packages (from jsonschema>=3.0->altair<6,>=4.0->streamlit) (25.3.0)\n",
            "Requirement already satisfied: jsonschema-specifications>=2023.03.6 in /usr/local/lib/python3.11/dist-packages (from jsonschema>=3.0->altair<6,>=4.0->streamlit) (2025.4.1)\n",
            "Requirement already satisfied: referencing>=0.28.4 in /usr/local/lib/python3.11/dist-packages (from jsonschema>=3.0->altair<6,>=4.0->streamlit) (0.36.2)\n",
            "Requirement already satisfied: rpds-py>=0.7.1 in /usr/local/lib/python3.11/dist-packages (from jsonschema>=3.0->altair<6,>=4.0->streamlit) (0.25.1)\n",
            "Requirement already satisfied: six>=1.5 in /usr/local/lib/python3.11/dist-packages (from python-dateutil>=2.8.2->pandas<3,>=1.4.0->streamlit) (1.17.0)\n",
            "Downloading streamlit-1.46.0-py3-none-any.whl (10.1 MB)\n",
            "\u001b[2K   \u001b[90m━━━━━━━━━━━━━━━━━━━━━━━━━━━━━━━━━━━━━━━━\u001b[0m \u001b[32m10.1/10.1 MB\u001b[0m \u001b[31m44.1 MB/s\u001b[0m eta \u001b[36m0:00:00\u001b[0m\n",
            "\u001b[?25hDownloading pydeck-0.9.1-py2.py3-none-any.whl (6.9 MB)\n",
            "\u001b[2K   \u001b[90m━━━━━━━━━━━━━━━━━━━━━━━━━━━━━━━━━━━━━━━━\u001b[0m \u001b[32m6.9/6.9 MB\u001b[0m \u001b[31m47.1 MB/s\u001b[0m eta \u001b[36m0:00:00\u001b[0m\n",
            "\u001b[?25hDownloading watchdog-6.0.0-py3-none-manylinux2014_x86_64.whl (79 kB)\n",
            "\u001b[2K   \u001b[90m━━━━━━━━━━━━━━━━━━━━━━━━━━━━━━━━━━━━━━━━\u001b[0m \u001b[32m79.1/79.1 kB\u001b[0m \u001b[31m4.6 MB/s\u001b[0m eta \u001b[36m0:00:00\u001b[0m\n",
            "\u001b[?25hInstalling collected packages: watchdog, pydeck, streamlit\n",
            "Successfully installed pydeck-0.9.1 streamlit-1.46.0 watchdog-6.0.0\n"
          ]
        }
      ]
    },
    {
      "cell_type": "code",
      "source": [],
      "metadata": {
        "colab": {
          "base_uri": "https://localhost:8080/"
        },
        "id": "Uge7Y_X3zAf5",
        "outputId": "fdc2498c-06eb-469a-a7d4-7b6c3271cc62"
      },
      "execution_count": null,
      "outputs": [
        {
          "output_type": "stream",
          "name": "stderr",
          "text": [
            "2025-06-24 07:17:37.680 WARNING streamlit.runtime.scriptrunner_utils.script_run_context: Thread 'MainThread': missing ScriptRunContext! This warning can be ignored when running in bare mode.\n",
            "2025-06-24 07:17:37.682 WARNING streamlit.runtime.scriptrunner_utils.script_run_context: Thread 'MainThread': missing ScriptRunContext! This warning can be ignored when running in bare mode.\n",
            "2025-06-24 07:17:37.970 \n",
            "  \u001b[33m\u001b[1mWarning:\u001b[0m to view this Streamlit app on a browser, run it with the following\n",
            "  command:\n",
            "\n",
            "    streamlit run /usr/local/lib/python3.11/dist-packages/colab_kernel_launcher.py [ARGUMENTS]\n",
            "2025-06-24 07:17:37.971 Thread 'MainThread': missing ScriptRunContext! This warning can be ignored when running in bare mode.\n",
            "2025-06-24 07:17:37.974 Thread 'MainThread': missing ScriptRunContext! This warning can be ignored when running in bare mode.\n",
            "2025-06-24 07:17:37.976 Thread 'MainThread': missing ScriptRunContext! This warning can be ignored when running in bare mode.\n",
            "2025-06-24 07:17:37.977 Thread 'MainThread': missing ScriptRunContext! This warning can be ignored when running in bare mode.\n",
            "2025-06-24 07:17:37.978 Thread 'MainThread': missing ScriptRunContext! This warning can be ignored when running in bare mode.\n",
            "2025-06-24 07:17:38.893 Thread 'MainThread': missing ScriptRunContext! This warning can be ignored when running in bare mode.\n",
            "2025-06-24 07:17:38.898 Thread 'MainThread': missing ScriptRunContext! This warning can be ignored when running in bare mode.\n",
            "2025-06-24 07:17:38.907 Thread 'MainThread': missing ScriptRunContext! This warning can be ignored when running in bare mode.\n",
            "2025-06-24 07:17:38.913 Thread 'MainThread': missing ScriptRunContext! This warning can be ignored when running in bare mode.\n",
            "2025-06-24 07:17:38.914 Thread 'MainThread': missing ScriptRunContext! This warning can be ignored when running in bare mode.\n",
            "2025-06-24 07:17:38.918 Thread 'MainThread': missing ScriptRunContext! This warning can be ignored when running in bare mode.\n",
            "2025-06-24 07:17:38.923 Thread 'MainThread': missing ScriptRunContext! This warning can be ignored when running in bare mode.\n",
            "2025-06-24 07:17:38.924 Thread 'MainThread': missing ScriptRunContext! This warning can be ignored when running in bare mode.\n",
            "2025-06-24 07:17:38.926 Thread 'MainThread': missing ScriptRunContext! This warning can be ignored when running in bare mode.\n"
          ]
        }
      ]
    },
    {
      "cell_type": "code",
      "source": [
        "code = '''\n",
        "import streamlit as st\n",
        "import pandas as pd\n",
        "import joblib\n",
        "from sklearn.preprocessing import StandardScaler\n",
        "\n",
        "# Page settings\n",
        "st.set_page_config(page_title=\"AV Intrusion Detector\", layout=\"centered\")\n",
        "st.title(\"🚗 Smart Car Intrusion Detection\")\n",
        "st.markdown(\"Upload CAN bus data to detect possible intrusions in real time.\")\n",
        "\n",
        "# Load model\n",
        "model = joblib.load(\"random_forest_car_model.pkl\")\n",
        "\n",
        "# Simulate the training scaler\n",
        "# (Optional: You can save & load scaler with joblib too if needed)\n",
        "scaler = StandardScaler()\n",
        "example_data = pd.read_csv(\"RPM_dataset.csv\", header=None)\n",
        "example_data.columns = ['Time', 'ID', 'Len', 'D1', 'D2', 'D3', 'D4', 'D5', 'D6', 'D7', 'D8', 'Class']\n",
        "example_data = example_data.drop(columns=['Time', 'Class'], errors='ignore')\n",
        "\n",
        "# Hex conversion for training data\n",
        "for col in example_data.columns:\n",
        "    example_data[col] = example_data[col].apply(\n",
        "        lambda x: int(str(x), 16) if isinstance(x, str) and all(c in '0123456789abcdefABCDEF' for c in str(x)) else x\n",
        "    )\n",
        "\n",
        "example_data = example_data.apply(pd.to_numeric, errors='coerce')\n",
        "example_data = example_data.dropna()\n",
        "scaler.fit(example_data)\n",
        "\n",
        "# Upload CSV\n",
        "uploaded_file = st.file_uploader(\"📤 Upload CAN Bus CSV File\", type=[\"csv\"])\n",
        "\n",
        "if uploaded_file:\n",
        "    df = pd.read_csv(uploaded_file)\n",
        "\n",
        "    # Clean incoming data\n",
        "    df = df.drop(columns=[col for col in ['Time', 'Class'] if col in df.columns], errors='ignore')\n",
        "    df = df.dropna()\n",
        "\n",
        "    for col in df.columns:\n",
        "        df[col] = df[col].apply(\n",
        "            lambda x: int(str(x), 16) if isinstance(x, str) and all(c in '0123456789abcdefABCDEF' for c in str(x)) else x\n",
        "        )\n",
        "\n",
        "    df = df.apply(pd.to_numeric, errors='coerce')\n",
        "    df = df.dropna()\n",
        "\n",
        "    # Scale & Predict\n",
        "    df_scaled = scaler.transform(df)\n",
        "    predictions = model.predict(df_scaled)\n",
        "    confidences = model.predict_proba(df_scaled)\n",
        "\n",
        "    df['Status'] = ['ATTACK' if p == 1 else 'NORMAL' for p in predictions]\n",
        "    df['Confidence (%)'] = [round(max(c) * 100, 2) for c in confidences]\n",
        "\n",
        "    st.success(\"✅ Intrusion Detection Complete\")\n",
        "    st.dataframe(df)\n",
        "\n",
        "    # Download option\n",
        "    result_csv = df.to_csv(index=False).encode('utf-8')\n",
        "    st.download_button(\"⬇️ Download Detection Results\", result_csv, \"intrusion_results.csv\", \"text/csv\")\n",
        "\n",
        "else:\n",
        "    st.info(\"Upload a CSV file to begin.\")\n",
        "\n",
        "'''\n",
        "\n",
        "# 🔽 Save as app.py\n",
        "with open(\"app.py\", \"w\") as f:\n",
        "    f.write(code)\n",
        "\n",
        "# 🔽 Download app.py to your computer\n",
        "from google.colab import files\n",
        "files.download(\"app.py\")\n"
      ],
      "metadata": {
        "colab": {
          "base_uri": "https://localhost:8080/",
          "height": 17
        },
        "id": "qpOfQy0CypIj",
        "outputId": "06c319e5-d0b5-4819-c3a7-49073eef1959"
      },
      "execution_count": null,
      "outputs": [
        {
          "output_type": "display_data",
          "data": {
            "text/plain": [
              "<IPython.core.display.Javascript object>"
            ],
            "application/javascript": [
              "\n",
              "    async function download(id, filename, size) {\n",
              "      if (!google.colab.kernel.accessAllowed) {\n",
              "        return;\n",
              "      }\n",
              "      const div = document.createElement('div');\n",
              "      const label = document.createElement('label');\n",
              "      label.textContent = `Downloading \"${filename}\": `;\n",
              "      div.appendChild(label);\n",
              "      const progress = document.createElement('progress');\n",
              "      progress.max = size;\n",
              "      div.appendChild(progress);\n",
              "      document.body.appendChild(div);\n",
              "\n",
              "      const buffers = [];\n",
              "      let downloaded = 0;\n",
              "\n",
              "      const channel = await google.colab.kernel.comms.open(id);\n",
              "      // Send a message to notify the kernel that we're ready.\n",
              "      channel.send({})\n",
              "\n",
              "      for await (const message of channel.messages) {\n",
              "        // Send a message to notify the kernel that we're ready.\n",
              "        channel.send({})\n",
              "        if (message.buffers) {\n",
              "          for (const buffer of message.buffers) {\n",
              "            buffers.push(buffer);\n",
              "            downloaded += buffer.byteLength;\n",
              "            progress.value = downloaded;\n",
              "          }\n",
              "        }\n",
              "      }\n",
              "      const blob = new Blob(buffers, {type: 'application/binary'});\n",
              "      const a = document.createElement('a');\n",
              "      a.href = window.URL.createObjectURL(blob);\n",
              "      a.download = filename;\n",
              "      div.appendChild(a);\n",
              "      a.click();\n",
              "      div.remove();\n",
              "    }\n",
              "  "
            ]
          },
          "metadata": {}
        },
        {
          "output_type": "display_data",
          "data": {
            "text/plain": [
              "<IPython.core.display.Javascript object>"
            ],
            "application/javascript": [
              "download(\"download_565eabce-158f-4403-8f06-4ec28a2b8cbe\", \"app.py\", 2296)"
            ]
          },
          "metadata": {}
        }
      ]
    }
  ]
}